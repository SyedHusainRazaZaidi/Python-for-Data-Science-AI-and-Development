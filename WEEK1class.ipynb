{
 "cells": [
  {
   "cell_type": "markdown",
   "id": "89fc9e3c",
   "metadata": {},
   "source": [
    "# Introduction To Python"
   ]
  },
  {
   "cell_type": "markdown",
   "id": "1197a5f3",
   "metadata": {},
   "source": [
    "## Types"
   ]
  },
  {
   "cell_type": "markdown",
   "id": "84824d77",
   "metadata": {},
   "source": [
    "A types represent the different types of data in python. There can be integers, real numbersand string."
   ]
  },
  {
   "cell_type": "code",
   "execution_count": 4,
   "id": "1e6b21d5",
   "metadata": {},
   "outputs": [
    {
     "name": "stdout",
     "output_type": "stream",
     "text": [
      "a =  8\n"
     ]
    },
    {
     "data": {
      "text/plain": [
       "int"
      ]
     },
     "execution_count": 4,
     "metadata": {},
     "output_type": "execute_result"
    }
   ],
   "source": [
    "a = 8\n",
    "print(\"a = \",a)\n",
    "type(a)"
   ]
  },
  {
   "cell_type": "code",
   "execution_count": 6,
   "id": "032bfa21",
   "metadata": {},
   "outputs": [
    {
     "name": "stdout",
     "output_type": "stream",
     "text": [
      "b =  23.445\n"
     ]
    },
    {
     "data": {
      "text/plain": [
       "float"
      ]
     },
     "execution_count": 6,
     "metadata": {},
     "output_type": "execute_result"
    }
   ],
   "source": [
    "b = 23.445\n",
    "print(\"b = \",b)\n",
    "type(b)"
   ]
  },
  {
   "cell_type": "code",
   "execution_count": 7,
   "id": "853af5c7",
   "metadata": {},
   "outputs": [
    {
     "name": "stdout",
     "output_type": "stream",
     "text": [
      "c =  this is a variable\n"
     ]
    },
    {
     "data": {
      "text/plain": [
       "str"
      ]
     },
     "execution_count": 7,
     "metadata": {},
     "output_type": "execute_result"
    }
   ],
   "source": [
    "c = 'this is a variable'\n",
    "print(\"c = \",c)\n",
    "type(c)"
   ]
  },
  {
   "cell_type": "code",
   "execution_count": 9,
   "id": "5f1ed415",
   "metadata": {},
   "outputs": [
    {
     "name": "stdout",
     "output_type": "stream",
     "text": [
      "23\n",
      "8.0\n"
     ]
    }
   ],
   "source": [
    "###Type casting\n",
    "print(int(b))\n",
    "print(float(a))"
   ]
  },
  {
   "cell_type": "code",
   "execution_count": 10,
   "id": "249851b7",
   "metadata": {},
   "outputs": [
    {
     "data": {
      "text/plain": [
       "bool"
      ]
     },
     "execution_count": 10,
     "metadata": {},
     "output_type": "execute_result"
    }
   ],
   "source": [
    "type(True)"
   ]
  },
  {
   "cell_type": "markdown",
   "id": "f847f0c3",
   "metadata": {},
   "source": [
    "## Expressions"
   ]
  },
  {
   "cell_type": "code",
   "execution_count": 23,
   "id": "3cd67258",
   "metadata": {},
   "outputs": [
    {
     "name": "stdout",
     "output_type": "stream",
     "text": [
      "6 2 16 2.0\n"
     ]
    }
   ],
   "source": [
    "add = 1+2+3\n",
    "subt = 5-1-2\n",
    "mult  = 4*4\n",
    "div = 4/2\n",
    "print(add,subt,mult,div)"
   ]
  },
  {
   "cell_type": "code",
   "execution_count": 25,
   "id": "4b5911bd",
   "metadata": {},
   "outputs": [
    {
     "name": "stdout",
     "output_type": "stream",
     "text": [
      "2.5 \n",
      " 2\n"
     ]
    }
   ],
   "source": [
    "a = 5/2\n",
    "b = 5//2\n",
    "print(a,\"\\n\",b)"
   ]
  },
  {
   "cell_type": "code",
   "execution_count": 26,
   "id": "8f700d0f",
   "metadata": {},
   "outputs": [
    {
     "name": "stdout",
     "output_type": "stream",
     "text": [
      "8.0\n"
     ]
    }
   ],
   "source": [
    "res = 1+2+(3-1)*5/2\n",
    "print(res)"
   ]
  },
  {
   "cell_type": "code",
   "execution_count": 27,
   "id": "e3fd8a77",
   "metadata": {},
   "outputs": [
    {
     "data": {
      "text/plain": [
       "3600"
      ]
     },
     "execution_count": 27,
     "metadata": {},
     "output_type": "execute_result"
    }
   ],
   "source": [
    "minute = 60\n",
    "hour = minute*60\n",
    "hour"
   ]
  },
  {
   "cell_type": "markdown",
   "id": "7a929ac7",
   "metadata": {},
   "source": [
    "## String"
   ]
  },
  {
   "cell_type": "code",
   "execution_count": 31,
   "id": "2871c38a",
   "metadata": {},
   "outputs": [
    {
     "name": "stdout",
     "output_type": "stream",
     "text": [
      "Hussain zaidi\n",
      "Hussainzaidi\n"
     ]
    }
   ],
   "source": [
    "f_name = 'Hussain'\n",
    "l_name = \"zaidi\"\n",
    "print(f_name,l_name)\n",
    "##concatenate\n",
    "print(f_name+l_name)"
   ]
  },
  {
   "cell_type": "code",
   "execution_count": 32,
   "id": "a2e4f908",
   "metadata": {},
   "outputs": [
    {
     "data": {
      "text/plain": [
       "'a'"
      ]
     },
     "execution_count": 32,
     "metadata": {},
     "output_type": "execute_result"
    }
   ],
   "source": [
    "f_name[4]"
   ]
  },
  {
   "cell_type": "code",
   "execution_count": 33,
   "id": "cd65c225",
   "metadata": {},
   "outputs": [
    {
     "data": {
      "text/plain": [
       "'s'"
      ]
     },
     "execution_count": 33,
     "metadata": {},
     "output_type": "execute_result"
    }
   ],
   "source": [
    "f_name[2]"
   ]
  },
  {
   "cell_type": "code",
   "execution_count": 34,
   "id": "26700912",
   "metadata": {},
   "outputs": [
    {
     "data": {
      "text/plain": [
       "'H'"
      ]
     },
     "execution_count": 34,
     "metadata": {},
     "output_type": "execute_result"
    }
   ],
   "source": [
    "f_name[0]"
   ]
  },
  {
   "cell_type": "code",
   "execution_count": 35,
   "id": "9734ddfb",
   "metadata": {},
   "outputs": [
    {
     "data": {
      "text/plain": [
       "'n'"
      ]
     },
     "execution_count": 35,
     "metadata": {},
     "output_type": "execute_result"
    }
   ],
   "source": [
    "f_name[-1]"
   ]
  },
  {
   "cell_type": "code",
   "execution_count": 36,
   "id": "19632a99",
   "metadata": {},
   "outputs": [
    {
     "data": {
      "text/plain": [
       "'H'"
      ]
     },
     "execution_count": 36,
     "metadata": {},
     "output_type": "execute_result"
    }
   ],
   "source": [
    "f_name[-7]"
   ]
  },
  {
   "cell_type": "code",
   "execution_count": 37,
   "id": "cdf41774",
   "metadata": {},
   "outputs": [
    {
     "data": {
      "text/plain": [
       "'Hus'"
      ]
     },
     "execution_count": 37,
     "metadata": {},
     "output_type": "execute_result"
    }
   ],
   "source": [
    "f_name[0:3]"
   ]
  },
  {
   "cell_type": "code",
   "execution_count": 38,
   "id": "65701f05",
   "metadata": {},
   "outputs": [
    {
     "data": {
      "text/plain": [
       "'Huss'"
      ]
     },
     "execution_count": 38,
     "metadata": {},
     "output_type": "execute_result"
    }
   ],
   "source": [
    "f_name[:4]"
   ]
  },
  {
   "cell_type": "code",
   "execution_count": 39,
   "id": "c9b55d63",
   "metadata": {},
   "outputs": [
    {
     "data": {
      "text/plain": [
       "'ain'"
      ]
     },
     "execution_count": 39,
     "metadata": {},
     "output_type": "execute_result"
    }
   ],
   "source": [
    "f_name[4:]"
   ]
  },
  {
   "cell_type": "code",
   "execution_count": 40,
   "id": "6d6be222",
   "metadata": {},
   "outputs": [
    {
     "data": {
      "text/plain": [
       "'Hsan'"
      ]
     },
     "execution_count": 40,
     "metadata": {},
     "output_type": "execute_result"
    }
   ],
   "source": [
    "f_name[::2]"
   ]
  },
  {
   "cell_type": "code",
   "execution_count": 43,
   "id": "c77ec9d0",
   "metadata": {},
   "outputs": [
    {
     "data": {
      "text/plain": [
       "'Hsa'"
      ]
     },
     "execution_count": 43,
     "metadata": {},
     "output_type": "execute_result"
    }
   ],
   "source": [
    "f_name[0:6:2]"
   ]
  },
  {
   "cell_type": "code",
   "execution_count": 44,
   "id": "84fbc956",
   "metadata": {},
   "outputs": [
    {
     "data": {
      "text/plain": [
       "7"
      ]
     },
     "execution_count": 44,
     "metadata": {},
     "output_type": "execute_result"
    }
   ],
   "source": [
    "len(f_name)"
   ]
  },
  {
   "cell_type": "code",
   "execution_count": 45,
   "id": "d5d8927f",
   "metadata": {},
   "outputs": [
    {
     "name": "stdout",
     "output_type": "stream",
     "text": [
      "Hussain Raza zaidi\n"
     ]
    }
   ],
   "source": [
    "print(f_name+\" Raza zaidi\")"
   ]
  },
  {
   "cell_type": "code",
   "execution_count": 46,
   "id": "1dcdf589",
   "metadata": {},
   "outputs": [
    {
     "name": "stdout",
     "output_type": "stream",
     "text": [
      "HussainHussainHussain\n"
     ]
    }
   ],
   "source": [
    "print(3*f_name)"
   ]
  },
  {
   "cell_type": "code",
   "execution_count": 48,
   "id": "32dd65c3",
   "metadata": {},
   "outputs": [
    {
     "name": "stdout",
     "output_type": "stream",
     "text": [
      "THIS IS PYTHON LANGUAGE\n"
     ]
    }
   ],
   "source": [
    "A = \"This is python language\"\n",
    "B = A.upper()\n",
    "print(B)"
   ]
  },
  {
   "cell_type": "code",
   "execution_count": 49,
   "id": "0a74b368",
   "metadata": {},
   "outputs": [
    {
     "name": "stdout",
     "output_type": "stream",
     "text": [
      "THIS IS PYTHON LANGUAGE\n",
      "this is python language\n"
     ]
    }
   ],
   "source": [
    "print(B)\n",
    "c=B.lower()\n",
    "print(c)"
   ]
  },
  {
   "cell_type": "code",
   "execution_count": 50,
   "id": "cf7f42ec",
   "metadata": {},
   "outputs": [
    {
     "name": "stdout",
     "output_type": "stream",
     "text": [
      "THIS IS JAVA LANGUAGE\n"
     ]
    }
   ],
   "source": [
    "print(B.replace('PYTHON','JAVA'))"
   ]
  },
  {
   "cell_type": "code",
   "execution_count": 51,
   "id": "d09aefdf",
   "metadata": {},
   "outputs": [
    {
     "name": "stdout",
     "output_type": "stream",
     "text": [
      "THIS IS PYTHON LANGUAGE\n"
     ]
    }
   ],
   "source": [
    "print(B)"
   ]
  },
  {
   "cell_type": "code",
   "execution_count": 52,
   "id": "0eb8d213",
   "metadata": {},
   "outputs": [
    {
     "data": {
      "text/plain": [
       "2"
      ]
     },
     "execution_count": 52,
     "metadata": {},
     "output_type": "execute_result"
    }
   ],
   "source": [
    "B.find(\"IS\")"
   ]
  },
  {
   "cell_type": "code",
   "execution_count": 53,
   "id": "04016f6a",
   "metadata": {},
   "outputs": [
    {
     "data": {
      "text/plain": [
       "8"
      ]
     },
     "execution_count": 53,
     "metadata": {},
     "output_type": "execute_result"
    }
   ],
   "source": [
    "B.find('PY')"
   ]
  },
  {
   "cell_type": "code",
   "execution_count": null,
   "id": "c2c726db",
   "metadata": {},
   "outputs": [],
   "source": []
  }
 ],
 "metadata": {
  "kernelspec": {
   "display_name": "Python 3 (ipykernel)",
   "language": "python",
   "name": "python3"
  },
  "language_info": {
   "codemirror_mode": {
    "name": "ipython",
    "version": 3
   },
   "file_extension": ".py",
   "mimetype": "text/x-python",
   "name": "python",
   "nbconvert_exporter": "python",
   "pygments_lexer": "ipython3",
   "version": "3.10.5"
  }
 },
 "nbformat": 4,
 "nbformat_minor": 5
}
